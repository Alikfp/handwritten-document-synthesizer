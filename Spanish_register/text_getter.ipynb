{
 "cells": [
  {
   "cell_type": "code",
   "execution_count": 12,
   "metadata": {},
   "outputs": [],
   "source": [
    "import os\n",
    "TARGET_PATH = \"/Users/alireza/Desktop/t.txt\"\n",
    "\n",
    "\n",
    "# To accumulate all the transcriptions in one place\n",
    "def copy_txt_to (f1, f2):\n",
    "    with open (f1, 'r') as src, open (f2, 'a') as target :\n",
    "        for l in src :\n",
    "            target.writelines(filter_txt(l))\n",
    "    src.close()\n",
    "    target.close()\n",
    "\n",
    "# filters the transcriptions\n",
    "def filter_txt (s) : \n",
    "    return s.split(':')[1]\n"
   ]
  },
  {
   "cell_type": "code",
   "execution_count": 15,
   "metadata": {},
   "outputs": [],
   "source": [
    "# get transcriptions\n",
    "dir = \"/Users/alireza/Desktop/OCR/Data sets/Spanish registers/IEHHR_training_part3\"\n",
    "records = [ f for f in os.listdir(dir) if f != '.DS_Store']\n",
    "for r in records:\n",
    "    txt_file = os.path.join(dir, r, 'words', r+'_transcription.txt')\n",
    "    copy_txt_to (txt_file, TARGET_PATH )"
   ]
  },
  {
   "cell_type": "code",
   "execution_count": null,
   "metadata": {},
   "outputs": [],
   "source": []
  }
 ],
 "metadata": {
  "interpreter": {
   "hash": "aee8b7b246df8f9039afb4144a1f6fd8d2ca17a180786b69acc140d282b71a49"
  },
  "kernelspec": {
   "display_name": "Python 3.8.3 64-bit",
   "name": "python3"
  },
  "language_info": {
   "codemirror_mode": {
    "name": "ipython",
    "version": 3
   },
   "file_extension": ".py",
   "mimetype": "text/x-python",
   "name": "python",
   "nbconvert_exporter": "python",
   "pygments_lexer": "ipython3",
   "version": "3.8.3"
  },
  "orig_nbformat": 4
 },
 "nbformat": 4,
 "nbformat_minor": 2
}